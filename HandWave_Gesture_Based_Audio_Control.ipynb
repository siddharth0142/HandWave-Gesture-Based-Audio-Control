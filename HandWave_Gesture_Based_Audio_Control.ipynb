{
  "nbformat": 4,
  "nbformat_minor": 0,
  "metadata": {
    "colab": {
      "provenance": [],
      "authorship_tag": "ABX9TyO17J3EpMLJxHIv7GjUATXA"
    },
    "kernelspec": {
      "name": "python3",
      "display_name": "Python 3"
    },
    "language_info": {
      "name": "python"
    }
  },
  "cells": [
    {
      "cell_type": "code",
      "execution_count": null,
      "metadata": {
        "id": "-iDyMgK818VB"
      },
      "outputs": [],
      "source": [
        "import cv2\n",
        "import mediapipe as mp\n",
        "import math\n",
        "from ctypes import cast, POINTER\n",
        "from comtypes import CLSCTX_ALL\n",
        "from pycaw.pycaw import AudioUtilities, IAudioEndpointVolume\n",
        "import numpy as np\n",
        "devices = AudioUtilities.GetSpeakers()\n",
        "interface = devices.Activate(\n",
        "     IAudioEndpointVolume._iid_, CLSCTX_ALL, None\n",
        ")\n",
        "volume = cast(interface, POINTER(IAudioEndpointVolume))\n",
        "\n",
        "#volume.GetMute()\n",
        "\n",
        "#print(volume.GetVolumeRange())\n",
        "#\n",
        "\n",
        "cap = cv2.VideoCapture(0)\n",
        "mpHands = mp.solutions.hands\n",
        "hands = mpHands.Hands()\n",
        "mpDraw =mp.solutions.drawing_utils\n",
        "while True:\n",
        "     succes, img=cap.read()\n",
        "\n",
        "     imgRGB = cv2.cvtColor(img , cv2.COLOR_BGR2RGB)\n",
        "     results = hands.process(imgRGB)\n",
        "     #print(results.multi_hand_landmarks)\n",
        "\n",
        "     if results.multi_hand_landmarks:\n",
        "          for handLms in results.multi_hand_landmarks:\n",
        "               lmlist =[]\n",
        "\n",
        "               for id, lm in enumerate(handLms.landmark):\n",
        "                    #print(id, lm)\n",
        "                    h, w, c = img.shape\n",
        "                    cx, cy = int(lm.x*w), int(lm.y*h)\n",
        "                    #print(id , cx, cy)\n",
        "                    lmlist.append([id, cx, cy])\n",
        "                    #print(lmlist)\n",
        "               mpDraw.draw_landmarks(img, handLms, mpHands.HAND_CONNECTIONS)\n",
        "          if lmlist:\n",
        "               x1, y1 = lmlist[4][1], lmlist[4][2]\n",
        "               x2, y2 = lmlist[8][1], lmlist[8][2]\n",
        "\n",
        "               cv2.circle(img, (x1, y1), 10, (255, 0, 9), cv2.FILLED)\n",
        "               cv2.circle(img, (x2, y2), 10, (255, 0, 9), cv2.FILLED)\n",
        "               cv2.line(img,(x1,y1),(x2,y2),(24,86,127),2)\n",
        "               length=math.hypot(x2-x1,y2-y1)\n",
        "               #print(length)\n",
        "               if  length < 50:\n",
        "                    z1=(x1+x2)//2\n",
        "                    z2=(y1+y2)//2\n",
        "                    cv2.circle(img,(z1,z2), 10,(27,64,134),cv2.FILLED)\n",
        "          volRange=volume.GetVolumeRange()\n",
        "          minVol = volRange[0]\n",
        "          maxVol = volRange[1]\n",
        "          vol = np.interp(length, [50,300], [minVol,maxVol])\n",
        "          volBar = np.interp(length ,[50,300],[400,150])\n",
        "          volPer = np.interp(length,[50,300],[0,100])\n",
        "\n",
        "          volume.SetMasterVolumeLevel(vol, None)\n",
        "          cv2.rectangle(img , (50,150), (85 ,400) ,(126,58,234) , 3)\n",
        "          cv2.rectangle(img,( 50, int(volBar)),(85,400),(126,58,234), cv2.FILLED )\n",
        "          cv2.putText(img ,str(int(volPer)),(40,100),cv2.FONT_HERSHEY_COMPLEX,4,(126,58,234))\n",
        "\n",
        "     cv2.imshow(\"image\", img)\n",
        "     cv2.waitKey(2)\n"
      ]
    }
  ]
}